{
  "nbformat": 4,
  "nbformat_minor": 0,
  "metadata": {
    "colab": {
      "name": "HW3_Kamalapuram.ipynb",
      "provenance": [],
      "collapsed_sections": []
    },
    "kernelspec": {
      "name": "python3",
      "display_name": "Python 3"
    },
    "language_info": {
      "name": "python"
    }
  },
  "cells": [
    {
      "cell_type": "code",
      "execution_count": 1,
      "metadata": {
        "id": "UdTM_PafK5aq"
      },
      "outputs": [],
      "source": [
        "import numpy as np\n",
        "import pandas as pd\n",
        "import matplotlib.pyplot as plt\n",
        "import seaborn as sns\n",
        "from sklearn.linear_model import LogisticRegression\n",
        "from sklearn.model_selection import train_test_split"
      ]
    },
    {
      "cell_type": "code",
      "source": [
        "# from google.colab import files\n",
        "# uploaded = files.upload()"
      ],
      "metadata": {
        "colab": {
          "resources": {
            "http://localhost:8080/nbextensions/google.colab/files.js": {
              "data": "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",
              "ok": true,
              "headers": [
                [
                  "content-type",
                  "application/javascript"
                ]
              ],
              "status": 200,
              "status_text": ""
            }
          },
          "base_uri": "https://localhost:8080/",
          "height": 39
        },
        "id": "5Ps1L9aqK70e",
        "outputId": "a7ec39e7-0aa4-4934-b8b1-16a40474ba10"
      },
      "execution_count": null,
      "outputs": [
        {
          "output_type": "display_data",
          "data": {
            "text/html": [
              "\n",
              "     <input type=\"file\" id=\"files-0cc28d8f-a1e4-493e-9258-77d4b186b0a4\" name=\"files[]\" multiple disabled\n",
              "        style=\"border:none\" />\n",
              "     <output id=\"result-0cc28d8f-a1e4-493e-9258-77d4b186b0a4\">\n",
              "      Upload widget is only available when the cell has been executed in the\n",
              "      current browser session. Please rerun this cell to enable.\n",
              "      </output>\n",
              "      <script src=\"/nbextensions/google.colab/files.js\"></script> "
            ],
            "text/plain": [
              "<IPython.core.display.HTML object>"
            ]
          },
          "metadata": {}
        }
      ]
    },
    {
      "cell_type": "code",
      "source": [
        "train_data = pd.read_csv(\"./Assignment3-train.txt\", header=None)\n",
        "train_data.head()\n",
        "train_data.dropna\n",
        "y_data = train_data.get(0)\n",
        "x_data = train_data.drop([0], axis = 1)\n",
        "y_data= y_data.replace(5, 1)\n",
        "y_data= y_data.replace(3, -1)"
      ],
      "metadata": {
        "id": "ibIK77seLHl4"
      },
      "execution_count": 4,
      "outputs": []
    },
    {
      "cell_type": "code",
      "source": [
        "x_train, x_test, y_train, y_test = train_test_split(x_data,y_data,test_size = 0.2,random_state=0)"
      ],
      "metadata": {
        "id": "W-PcvR3DOt3I"
      },
      "execution_count": 5,
      "outputs": []
    },
    {
      "cell_type": "code",
      "source": [
        "from sklearn.tree import DecisionTreeClassifier\n",
        "class AdaBoost:\n",
        "\n",
        "    def __init__(self):\n",
        "        self.stumps = None\n",
        "        self.stump_importance = None\n",
        "        self.errors = None\n",
        "        self.smplWeights = None\n",
        "\n",
        "    def _check_X_y(self, X, y):\n",
        "        assert set(y) == {-1, 1}\n",
        "        return X, y"
      ],
      "metadata": {
        "id": "bW_9LaxLRmS1"
      },
      "execution_count": 6,
      "outputs": []
    },
    {
      "cell_type": "code",
      "source": [
        "\n",
        "def totalGiniImpurity(a, b, c, d):\n",
        "    total_elements = a + b + c + d\n",
        "    gini_1 = 1 - np.square(a/(a+b)) - np.square(b/(a+b))\n",
        "    gini_2 = 1 - np.square(c/(c+d)) - np.square(d/(c+d))\n",
        "    total_gini = ((a+b)/total_elements) * gini_1 + ((c+d)/total_elements) * gini_2\n",
        "    return total_gini \n",
        "    \n",
        "def calculateGiniForColumn(x_col, y):\n",
        "  mAvg = x_col.max() + x_col.min()\n",
        "  mAvg /=2\n",
        "  leftGini = 0\n",
        "  rightGini = 0\n",
        "  a,b,c,d = 0,0,0,0\n",
        "  for x_val, y_val in  zip(x_col, y):\n",
        "    #print(x_val < mAvg)\n",
        "    if (x_val < mAvg):\n",
        "      if(int(y_val) == 1):\n",
        "        a+=1\n",
        "      else:\n",
        "        b+=1\n",
        "    else:\n",
        "      if(int(y_val) == 1):\n",
        "        c+=1\n",
        "      else:\n",
        "        d+=1\n",
        "  return totalGiniImpurity(a,b,c,d), a, b, c, d\n",
        "\n",
        "\n",
        "def descisionStum( X, y):\n",
        "  miniGini = 3.00000000 \n",
        "  miniGiniIndex = 0.000000\n",
        "  ma, mb, mc, md = 0,0,0,0\n",
        "  for i in range(1, 256):\n",
        "    #print(\"udayy\")\n",
        "    calGini, a, b , c, d = calculateGiniForColumn(X[i], y)\n",
        "    #print(\"giniiiiiiiiii\",calGini)\n",
        "    if(miniGini > calGini):\n",
        "      miniGini = calGini\n",
        "      miniGiniIndex = i\n",
        "      ma, mb, mc, md = a, b , c, d\n",
        "  return miniGini, miniGiniIndex"
      ],
      "metadata": {
        "id": "OuK0L4P8eByp"
      },
      "execution_count": 7,
      "outputs": []
    },
    {
      "cell_type": "code",
      "source": [
        "#minG, minGIndex = descisionStum(x_train, y_train)\n",
        "print(\"Minimum Gini Index and respective column number:\", descisionStum(x_train, y_train) )"
      ],
      "metadata": {
        "colab": {
          "base_uri": "https://localhost:8080/"
        },
        "id": "lsvoZPWys2CZ",
        "outputId": "2f6c8b21-d06f-455b-a713-0a9dbd8ad01b"
      },
      "execution_count": 8,
      "outputs": [
        {
          "output_type": "stream",
          "name": "stdout",
          "text": [
            "Minimum Gini Index and respective column number: (0.31723180247219485, 85)\n"
          ]
        }
      ]
    },
    {
      "cell_type": "code",
      "source": [
        "\n",
        "def fit(self, x: np.ndarray, y: np.ndarray, iterats: int):\n",
        "\n",
        "    X, y = self._check_X_y(x, y)\n",
        "    n = X.shape[0]\n",
        "    self.smplWeights = np.zeros(shape=(iterats, n))\n",
        "    self.stumps = np.zeros(shape=iterats, dtype=object)\n",
        "    self.stump_importance = np.zeros(shape=iterats)\n",
        "    self.errors = np.zeros(shape=iterats)\n",
        "    self.smplWeights[0] = np.ones(shape=n) / n\n",
        "    index = []\n",
        "    for i in range(iterats):\n",
        "        # fit  weak learner\n",
        "        currSmplWeights = self.smplWeights[i]\n",
        "        stump = DecisionTreeClassifier(max_depth=1, max_leaf_nodes=2)\n",
        "        #print(\"uda\", stump )\n",
        "        stump = stump.fit(X, y, sample_weight=currSmplWeights)\n",
        "        #print(\"uday\", stump )\n",
        "        stump_pred = stump.predict(X)\n",
        "        #print(\"udayyyy\", stump_pred )\n",
        "        err = currSmplWeights[(stump_pred != y)].sum()# / n\n",
        "        stump_importance = np.log((1 - err) / err) / 2\n",
        "        newSmplWeights = (\n",
        "            currSmplWeights * np.exp(-stump_importance * y * stump_pred)\n",
        "        )\n",
        "        newSmplWeights /= newSmplWeights.sum()\n",
        "        if i+1 < iterats:\n",
        "            self.smplWeights[i+1] = newSmplWeights\n",
        "        self.stumps[i] = stump\n",
        "        self.stump_importance[i] = stump_importance\n",
        "        self.errors[i] = err\n",
        "        index.append(i)\n",
        "    plt.plot(index,self.errors)\n",
        "    plt.xlabel(\"Number of Iteration\")\n",
        "    plt.ylabel(\"Weighted Error Rate\")\n",
        "    plt.show()\n",
        "\n",
        "    return self"
      ],
      "metadata": {
        "id": "KFyDdV6lQ7od"
      },
      "execution_count": 9,
      "outputs": []
    },
    {
      "cell_type": "code",
      "source": [
        "def predict(self, X):\n",
        "    stump_preds = np.array([stump.predict(X) for stump in self.stumps])\n",
        "    return np.sign(np.dot(self.stump_importance, stump_preds))"
      ],
      "metadata": {
        "id": "IL7xU7uRQ-SU"
      },
      "execution_count": 10,
      "outputs": []
    },
    {
      "cell_type": "code",
      "source": [
        "AdaBoost.fit = fit\n",
        "AdaBoost.predict = predict\n",
        "classify = AdaBoost().fit(x_train, y_train, iterats=200)\n",
        "\n",
        "#plot_adaboost(x_train, y_train, clf)\n",
        "\n"
      ],
      "metadata": {
        "colab": {
          "base_uri": "https://localhost:8080/",
          "height": 279
        },
        "id": "i9eo5pDzRWCE",
        "outputId": "ecdc061d-c7d5-4ced-d020-7de858d80135"
      },
      "execution_count": 12,
      "outputs": [
        {
          "output_type": "display_data",
          "data": {
            "image/png": "[encoded data removed]",
            "text/plain": [
              "<Figure size 432x288 with 1 Axes>"
            ]
          },
          "metadata": {
            "needs_background": "light"
          }
        }
      ]
    },
    {
      "cell_type": "code",
      "source": [
        "train_err = (classify.predict(x_test) != y_test).mean()\n",
        "print(f'Train error: {train_err:.1%}')"
      ],
      "metadata": {
        "colab": {
          "base_uri": "https://localhost:8080/"
        },
        "id": "VZgr9OvGhmhS",
        "outputId": "fa3500b2-e985-45e6-d0a6-829e2160c347"
      },
      "execution_count": 13,
      "outputs": [
        {
          "output_type": "stream",
          "name": "stdout",
          "text": [
            "Train error: 1.6%\n"
          ]
        }
      ]
    },
    {
      "cell_type": "code",
      "source": [
        "test_data = pd.read_csv(\"./Assignment3-test.txt\", header=None)\n",
        "test_data.head()\n",
        "test_data.dropna"
      ],
      "metadata": {
        "colab": {
          "base_uri": "https://localhost:8080/"
        },
        "id": "_OVgxHwH3rFN",
        "outputId": "2d24bd73-4e18-49dd-8b4f-26f6fa854ecc"
      },
      "execution_count": 14,
      "outputs": [
        {
          "output_type": "execute_result",
          "data": {
            "text/plain": [
              "<bound method DataFrame.dropna of      0    1      2      3      4      5      6      7      8      9    ...  \\\n",
              "0   -1.0 -1.0 -1.000 -0.593  0.700  1.000  1.000  1.000  1.000  0.853  ...   \n",
              "1   -1.0 -1.0 -1.000  0.264  0.532 -0.210 -0.746 -0.779 -1.000 -1.000  ...   \n",
              "2   -1.0 -1.0 -0.983  0.662 -0.509 -1.000 -1.000 -1.000 -1.000 -1.000  ...   \n",
              "3   -1.0 -1.0 -1.000 -0.941 -0.120  0.858  1.000  1.000  1.000  0.698  ...   \n",
              "4   -1.0 -1.0 -1.000 -1.000 -0.933  0.461  0.779  0.584  0.584  0.584  ...   \n",
              "..   ...  ...    ...    ...    ...    ...    ...    ...    ...    ...  ...   \n",
              "321 -1.0 -1.0 -1.000 -1.000 -1.000 -1.000 -1.000 -1.000 -1.000 -0.945  ...   \n",
              "322 -1.0 -1.0 -1.000 -1.000 -1.000 -0.565  0.388  1.000  1.000  1.000  ...   \n",
              "323 -1.0 -1.0 -1.000 -0.939  0.536  1.000  1.000  1.000  0.871  0.264  ...   \n",
              "324 -1.0 -1.0 -1.000 -0.885 -0.280 -0.411 -0.920 -0.920 -0.920 -0.920  ...   \n",
              "325 -1.0 -1.0 -1.000 -1.000 -1.000 -0.417  0.814  1.000  0.775 -0.723  ...   \n",
              "\n",
              "       246    247    248    249    250    251    252    253    254  255  \n",
              "0    1.000  0.717  0.333  0.162 -0.393 -1.000 -1.000 -1.000 -1.000 -1.0  \n",
              "1    0.461  0.418 -0.057 -0.829 -1.000 -1.000 -1.000 -1.000 -1.000 -1.0  \n",
              "2    0.774  1.000  0.802  0.513  0.009 -0.603 -1.000 -1.000 -1.000 -1.0  \n",
              "3    0.841  1.000  0.823  0.203 -0.478 -1.000 -1.000 -1.000 -1.000 -1.0  \n",
              "4    1.000  0.857  0.371 -0.397 -0.949 -1.000 -1.000 -1.000 -1.000 -1.0  \n",
              "..     ...    ...    ...    ...    ...    ...    ...    ...    ...  ...  \n",
              "321  0.132  0.418  0.633  0.541  0.418  0.259 -0.625 -0.746 -0.883 -1.0  \n",
              "322 -0.634 -0.126  0.383  1.000  1.000  0.970  0.207  0.045 -0.967 -1.0  \n",
              "323  1.000  1.000  1.000  1.000  1.000  0.748  0.026 -0.827 -1.000 -1.0  \n",
              "324  0.389  1.000  1.000  1.000  0.868 -0.400 -0.998 -1.000 -1.000 -1.0  \n",
              "325  1.000  1.000  0.554  0.184 -0.484 -1.000 -1.000 -1.000 -1.000 -1.0  \n",
              "\n",
              "[326 rows x 256 columns]>"
            ]
          },
          "metadata": {},
          "execution_count": 14
        }
      ]
    },
    {
      "cell_type": "code",
      "source": [
        "test_pred = classify.predict(test_data)\n",
        "test_pred = pd.DataFrame(test_pred).astype(int)"
      ],
      "metadata": {
        "id": "6LkI9Xa_4KQ7"
      },
      "execution_count": 15,
      "outputs": []
    },
    {
      "cell_type": "code",
      "source": [
        "# sigleDescTree = DecisionTreeClassifier(max_depth=1, max_leaf_nodes=2)\n",
        "# sigleDescTree = sigleDescTree.fit(x_train, y_train)\n",
        "# train_err = (sigleDescTree.predict(x_test) != y_test).mean()\n",
        "# test_pred = sigleDescTree.predict(test_data)\n",
        "# test_pred = pd.DataFrame(test_pred).astype(int)\n",
        "# print(f'Train error: {train_err:.1%}')"
      ],
      "metadata": {
        "colab": {
          "base_uri": "https://localhost:8080/"
        },
        "id": "eeGeXtNWtTWY",
        "outputId": "ab890e91-6bed-4320-81e1-4ac05823e022"
      },
      "execution_count": 89,
      "outputs": [
        {
          "output_type": "stream",
          "name": "stdout",
          "text": [
            "Train error: 8.2%\n"
          ]
        }
      ]
    },
    {
      "cell_type": "code",
      "source": [
        "test_pred= test_pred.replace(1, 5)\n",
        "test_pred= test_pred.replace(-1, 3)"
      ],
      "metadata": {
        "id": "z2pdKl2y48xO"
      },
      "execution_count": 16,
      "outputs": []
    },
    {
      "cell_type": "code",
      "source": [
        "output=open('./assignOut.txt', 'w')\n",
        "\n",
        "output.write(test_pred.to_string(header=False, index=False))\n",
        "\n",
        "output.close()"
      ],
      "metadata": {
        "id": "4I03o_Uh6MtZ"
      },
      "execution_count": 17,
      "outputs": []
    },
    {
      "cell_type": "code",
      "source": [
        "#Plotting graphs from the test data (1-Miner Accuracy) to number of iterations\n",
        "iterations = [5,10,20,100,200,400,600,1000]\n",
        "error_rate = [0.09,0.078,0.041,0.037,0.016,0.021,0.016,0.021]\n",
        "plt.plot(iterations,error_rate)\n",
        "plt.xlabel(\"Rounds of Boosting\")\n",
        "plt.ylabel(\"Training Error Rate\")\n",
        "plt.show()"
      ],
      "metadata": {
        "colab": {
          "base_uri": "https://localhost:8080/",
          "height": 279
        },
        "id": "f56qmo5ryobe",
        "outputId": "e50bb4c3-c732-4363-9b2f-d7f56feb7267"
      },
      "execution_count": 20,
      "outputs": [
        {
          "output_type": "display_data",
          "data": {
            "image/png": "[encoded data removed]",
            "text/plain": [
              "<Figure size 432x288 with 1 Axes>"
            ]
          },
          "metadata": {
            "needs_background": "light"
          }
        }
      ]
    },
    {
      "cell_type": "code",
      "source": [
        "#Plotting graphs from the test data (1-Miner Accuracy) to number of iterations\n",
        "\n",
        "iterations = [5,10,20,100,200,400,600,1000]\n",
        "error_rate_train = [0.09,0.078,0.041,0.037,0.016,0.021,0.016,0.021]\n",
        "lineSingleDescisionTree = [0.082, 0.082,0.082,0.082,0.082,0.082,0.082,0.082]\n",
        "error_rate = [0.12,0.08,0.07,0.07,0.06,0.06,0.07,0.07]\n",
        "plt.plot(iterations,error_rate_train, 'b', label='Train Error')\n",
        "plt.plot(iterations,error_rate,'r', label='Test Error')\n",
        "plt.plot(iterations,lineSingleDescisionTree,'g', label='Train Error of Single Decision Tree')\n",
        "plt.xlabel(\"Rounds of Boosting\")\n",
        "plt.ylabel(\"Error Rate\")\n",
        "plt.legend()\n",
        "plt.show()"
      ],
      "metadata": {
        "colab": {
          "base_uri": "https://localhost:8080/",
          "height": 279
        },
        "id": "OO93rs9I0GCh",
        "outputId": "e436c7eb-e225-4895-ec62-a3fc1a4c072e"
      },
      "execution_count": 21,
      "outputs": [
        {
          "output_type": "display_data",
          "data": {
            "image/png": "[encoded data removed]",
            "text/plain": [
              "<Figure size 432x288 with 1 Axes>"
            ]
          },
          "metadata": {
            "needs_background": "light"
          }
        }
      ]
    }
  ]
}